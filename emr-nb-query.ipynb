{
 "cells": [
  {
   "cell_type": "code",
   "execution_count": 1,
   "metadata": {},
   "outputs": [
    {
     "data": {
      "application/vnd.jupyter.widget-view+json": {
       "model_id": "c78cff81d58e4d769218181538da564b",
       "version_major": 2,
       "version_minor": 0
      },
      "text/plain": [
       "VBox()"
      ]
     },
     "metadata": {},
     "output_type": "display_data"
    },
    {
     "name": "stdout",
     "output_type": "stream",
     "text": [
      "Starting Spark application\n"
     ]
    },
    {
     "data": {
      "text/html": [
       "<table>\n",
       "<tr><th>ID</th><th>YARN Application ID</th><th>Kind</th><th>State</th><th>Spark UI</th><th>Driver log</th><th>Current session?</th></tr><tr><td>1</td><td>application_1604423401068_0002</td><td>pyspark</td><td>idle</td><td><a target=\"_blank\" href=\"http://ip-172-31-39-223.us-west-2.compute.internal:20888/proxy/application_1604423401068_0002/\">Link</a></td><td><a target=\"_blank\" href=\"http://ip-172-31-41-206.us-west-2.compute.internal:8042/node/containerlogs/container_1604423401068_0002_01_000001/livy\">Link</a></td><td>✔</td></tr></table>"
      ],
      "text/plain": [
       "<IPython.core.display.HTML object>"
      ]
     },
     "metadata": {},
     "output_type": "display_data"
    },
    {
     "data": {
      "application/vnd.jupyter.widget-view+json": {
       "model_id": "",
       "version_major": 2,
       "version_minor": 0
      },
      "text/plain": [
       "FloatProgress(value=0.0, bar_style='info', description='Progress:', layout=Layout(height='25px', width='50%'),…"
      ]
     },
     "metadata": {},
     "output_type": "display_data"
    },
    {
     "name": "stdout",
     "output_type": "stream",
     "text": [
      "SparkSession available as 'spark'.\n"
     ]
    },
    {
     "data": {
      "application/vnd.jupyter.widget-view+json": {
       "model_id": "",
       "version_major": 2,
       "version_minor": 0
      },
      "text/plain": [
       "FloatProgress(value=0.0, bar_style='info', description='Progress:', layout=Layout(height='25px', width='50%'),…"
      ]
     },
     "metadata": {},
     "output_type": "display_data"
    },
    {
     "name": "stdout",
     "output_type": "stream",
     "text": [
      "<pyspark.sql.session.SparkSession object at 0x7fc8f8d03190>"
     ]
    }
   ],
   "source": [
    "# start spark application\n",
    "spark"
   ]
  },
  {
   "cell_type": "code",
   "execution_count": 2,
   "metadata": {},
   "outputs": [
    {
     "data": {
      "application/vnd.jupyter.widget-view+json": {
       "model_id": "dff6956f08b041f4823f8acf764c0560",
       "version_major": 2,
       "version_minor": 0
      },
      "text/plain": [
       "VBox()"
      ]
     },
     "metadata": {},
     "output_type": "display_data"
    },
    {
     "data": {
      "application/vnd.jupyter.widget-view+json": {
       "model_id": "",
       "version_major": 2,
       "version_minor": 0
      },
      "text/plain": [
       "FloatProgress(value=0.0, bar_style='info', description='Progress:', layout=Layout(height='25px', width='50%'),…"
      ]
     },
     "metadata": {},
     "output_type": "display_data"
    },
    {
     "name": "stdout",
     "output_type": "stream",
     "text": [
      "Collecting pandas\n",
      "  Using cached https://files.pythonhosted.org/packages/bf/4c/cb7da76f3a5e077e545f9cf8575b8f488a4e8ad60490838f89c5cdd5bb57/pandas-1.1.4-cp37-cp37m-manylinux1_x86_64.whl\n",
      "Requirement already satisfied: numpy>=1.15.4 in /usr/local/lib64/python3.7/site-packages (from pandas)\n",
      "Requirement already satisfied: pytz>=2017.2 in /usr/local/lib/python3.7/site-packages (from pandas)\n",
      "Collecting python-dateutil>=2.7.3 (from pandas)\n",
      "  Using cached https://files.pythonhosted.org/packages/d4/70/d60450c3dd48ef87586924207ae8907090de0b306af2bce5d134d78615cb/python_dateutil-2.8.1-py2.py3-none-any.whl\n",
      "Requirement already satisfied: six>=1.5 in /usr/local/lib/python3.7/site-packages (from python-dateutil>=2.7.3->pandas)\n",
      "Installing collected packages: python-dateutil, pandas\n",
      "Successfully installed pandas-1.1.4 python-dateutil-2.8.1"
     ]
    }
   ],
   "source": [
    "# install and import pandas lib\n",
    "sc.install_pypi_package(\"pandas\")\n",
    "import pandas as pd"
   ]
  },
  {
   "cell_type": "code",
   "execution_count": 3,
   "metadata": {},
   "outputs": [
    {
     "data": {
      "application/vnd.jupyter.widget-view+json": {
       "model_id": "6d2785cb90384147b729f034d32528f1",
       "version_major": 2,
       "version_minor": 0
      },
      "text/plain": [
       "VBox()"
      ]
     },
     "metadata": {},
     "output_type": "display_data"
    },
    {
     "data": {
      "application/vnd.jupyter.widget-view+json": {
       "model_id": "",
       "version_major": 2,
       "version_minor": 0
      },
      "text/plain": [
       "FloatProgress(value=0.0, bar_style='info', description='Progress:', layout=Layout(height='25px', width='50%'),…"
      ]
     },
     "metadata": {},
     "output_type": "display_data"
    }
   ],
   "source": [
    "# load data from S3\n",
    "df_songs = spark.read.parquet('s3://udacity-de-datalake/songs-table')\n",
    "df_artists = spark.read.parquet('s3://udacity-de-datalake/artists-table')\n",
    "df_users = spark.read.parquet('s3://udacity-de-datalake/users-table')\n",
    "df_time = spark.read.parquet('s3://udacity-de-datalake/time-table')\n",
    "df_songplays = spark.read.parquet('s3://udacity-de-datalake/songplays_table')"
   ]
  },
  {
   "cell_type": "code",
   "execution_count": 4,
   "metadata": {},
   "outputs": [
    {
     "data": {
      "application/vnd.jupyter.widget-view+json": {
       "model_id": "4f8f26a68daa400ebaad6344a8f6df96",
       "version_major": 2,
       "version_minor": 0
      },
      "text/plain": [
       "VBox()"
      ]
     },
     "metadata": {},
     "output_type": "display_data"
    },
    {
     "data": {
      "application/vnd.jupyter.widget-view+json": {
       "model_id": "",
       "version_major": 2,
       "version_minor": 0
      },
      "text/plain": [
       "FloatProgress(value=0.0, bar_style='info', description='Progress:', layout=Layout(height='25px', width='50%'),…"
      ]
     },
     "metadata": {},
     "output_type": "display_data"
    }
   ],
   "source": [
    "# create tmp view\n",
    "df_songs.createOrReplaceTempView('songs_tbl')\n",
    "df_artists.createOrReplaceTempView('artists_tbl')\n",
    "df_users.createOrReplaceTempView('users_tbl')\n",
    "df_time.createOrReplaceTempView('time_tbl')\n",
    "df_songplays.createOrReplaceTempView('songplays_tbl')"
   ]
  },
  {
   "cell_type": "markdown",
   "metadata": {},
   "source": [
    "### Query 1. Top-10 most played songs"
   ]
  },
  {
   "cell_type": "code",
   "execution_count": 5,
   "metadata": {},
   "outputs": [
    {
     "data": {
      "application/vnd.jupyter.widget-view+json": {
       "model_id": "71c6a2b17ed04daca084d3386a3055eb",
       "version_major": 2,
       "version_minor": 0
      },
      "text/plain": [
       "VBox()"
      ]
     },
     "metadata": {},
     "output_type": "display_data"
    },
    {
     "data": {
      "application/vnd.jupyter.widget-view+json": {
       "model_id": "",
       "version_major": 2,
       "version_minor": 0
      },
      "text/plain": [
       "FloatProgress(value=0.0, bar_style='info', description='Progress:', layout=Layout(height='25px', width='50%'),…"
      ]
     },
     "metadata": {},
     "output_type": "display_data"
    },
    {
     "name": "stdout",
     "output_type": "stream",
     "text": [
      "              song_id                                              title  cnt\n",
      "0  SOBONKR12A58A7A7E0                                     You're The One   37\n",
      "1  SOUNZHU12A8AE47481                                I CAN'T GET STARTED    9\n",
      "2  SOHTKMO12AB01843B0  Catch You Baby (Steve Pitron & Max Sanna Radio...    9\n",
      "3  SOULTKQ12AB018A183  Nothin' On You [feat. Bruno Mars] (Album Version)    8\n",
      "4  SOLZOBD12AB0185720                           Hey Daddy (Daddy's Home)    6\n",
      "5  SOTNHIP12AB0183131                                       Make Her Say    5\n",
      "6  SOARUPP12AB01842E0                                       Up Up & Away    5\n",
      "7  SOIOESO12A6D4F621D                             Unwell (Album Version)    4\n",
      "8  SONQEYS12AF72AABC9                                          Mr. Jones    4\n",
      "9  SOIZLKI12A6D4F7B61            Supermassive Black Hole (Album Version)    4"
     ]
    }
   ],
   "source": [
    "spark.sql('''\n",
    "  SELECT sp.song_id, s.title, count(*) AS cnt \n",
    "    FROM songplays_tbl sp\n",
    "    JOIN songs_tbl s\n",
    "      ON sp.song_id = s.song_id\n",
    "GROUP BY 1, 2\n",
    "ORDER BY 3 DESC\n",
    "   LIMIT 10;\n",
    "''').toPandas()"
   ]
  },
  {
   "cell_type": "markdown",
   "metadata": {},
   "source": [
    "### Query 2. Top-10 most played artists"
   ]
  },
  {
   "cell_type": "code",
   "execution_count": 6,
   "metadata": {},
   "outputs": [
    {
     "data": {
      "application/vnd.jupyter.widget-view+json": {
       "model_id": "994c208aa80740dd97b07731e80d51d6",
       "version_major": 2,
       "version_minor": 0
      },
      "text/plain": [
       "VBox()"
      ]
     },
     "metadata": {},
     "output_type": "display_data"
    },
    {
     "data": {
      "application/vnd.jupyter.widget-view+json": {
       "model_id": "",
       "version_major": 2,
       "version_minor": 0
      },
      "text/plain": [
       "FloatProgress(value=0.0, bar_style='info', description='Progress:', layout=Layout(height='25px', width='50%'),…"
      ]
     },
     "metadata": {},
     "output_type": "display_data"
    },
    {
     "name": "stdout",
     "output_type": "stream",
     "text": [
      "            artist_id                                     artist_name  cnt\n",
      "0  AR5E44Z1187B9A1D74                                   Dwight Yoakam   37\n",
      "1  ARD46C811C8A414F3F                                        Kid Cudi   10\n",
      "2  ARD46C811C8A414F3F                  Kid Cudi / Kanye West / Common   10\n",
      "3  AR37SX11187FB3E164                                      Ron Carter    9\n",
      "4  AR5EYTL1187B98EDA0                                   Lonnie Gordon    9\n",
      "5  ARKQQZA12086C116FC                                           B.o.B    8\n",
      "6  ARR3ONV1187B9A2F59                                            Muse    6\n",
      "7  ARPDVPJ1187B9ADBE9                  Usher featuring Jermaine Dupri    6\n",
      "8  ARPDVPJ1187B9ADBE9                                           Usher    6\n",
      "9  ARM0P6Z1187FB4D466  Richard Hawley And Death Ramps_ Arctic Monkeys    5"
     ]
    }
   ],
   "source": [
    "spark.sql('''\n",
    "  SELECT sp.artist_id, a.name AS artist_name, count(*) AS cnt\n",
    "    FROM songplays_tbl sp\n",
    "    JOIN artists_tbl a\n",
    "      ON sp.artist_id = a.artist_id\n",
    "GROUP BY 1, 2\n",
    "ORDER BY 3 DESC\n",
    "   LIMIT 10;\n",
    "''').toPandas()"
   ]
  },
  {
   "cell_type": "markdown",
   "metadata": {},
   "source": [
    "### Query 3. Statistics on when songs are played during a day"
   ]
  },
  {
   "cell_type": "code",
   "execution_count": 7,
   "metadata": {},
   "outputs": [
    {
     "data": {
      "application/vnd.jupyter.widget-view+json": {
       "model_id": "01a27d1abb41416dbdcad5d22ad16cfd",
       "version_major": 2,
       "version_minor": 0
      },
      "text/plain": [
       "VBox()"
      ]
     },
     "metadata": {},
     "output_type": "display_data"
    },
    {
     "data": {
      "application/vnd.jupyter.widget-view+json": {
       "model_id": "",
       "version_major": 2,
       "version_minor": 0
      },
      "text/plain": [
       "FloatProgress(value=0.0, bar_style='info', description='Progress:', layout=Layout(height='25px', width='50%'),…"
      ]
     },
     "metadata": {},
     "output_type": "display_data"
    },
    {
     "name": "stdout",
     "output_type": "stream",
     "text": [
      "    play_time  cnt\n",
      "0       13~18  145\n",
      "1         2~8   59\n",
      "2       19~22   53\n",
      "3        9~12   48\n",
      "4  23~24, 0~2   28"
     ]
    }
   ],
   "source": [
    "spark.sql('''\n",
    "  SELECT CASE\n",
    "           WHEN t.hour BETWEEN 2 AND 8  THEN '2~8'\n",
    "           WHEN t.hour BETWEEN 9 AND 12 THEN '9~12'\n",
    "           WHEN t.hour BETWEEN 13 AND 18 THEN '13~18'\n",
    "           WHEN t.hour BETWEEN 19 AND 22 THEN '19~22'\n",
    "           ELSE '23~24, 0~2'\n",
    "         END AS play_time, \n",
    "         count(*) AS cnt\n",
    "    FROM songplays_tbl sp\n",
    "    JOIN time_tbl t\n",
    "      ON sp.start_time = t.start_time\n",
    "GROUP BY 1\n",
    "ORDER BY 2 DESC;\n",
    "''').toPandas()"
   ]
  },
  {
   "cell_type": "code",
   "execution_count": null,
   "metadata": {},
   "outputs": [],
   "source": []
  }
 ],
 "metadata": {
  "kernelspec": {
   "display_name": "PySpark",
   "language": "",
   "name": "pysparkkernel"
  },
  "language_info": {
   "codemirror_mode": {
    "name": "python",
    "version": 2
   },
   "mimetype": "text/x-python",
   "name": "pyspark",
   "pygments_lexer": "python2"
  }
 },
 "nbformat": 4,
 "nbformat_minor": 4
}
